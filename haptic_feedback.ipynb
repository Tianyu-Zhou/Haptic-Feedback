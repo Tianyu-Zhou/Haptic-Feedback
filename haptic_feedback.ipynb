{
 "cells": [
  {
   "cell_type": "code",
   "execution_count": 1,
   "metadata": {},
   "outputs": [
    {
     "name": "stderr",
     "output_type": "stream",
     "text": [
      "d:\\Tianyu\\software\\anaconda3\\lib\\site-packages\\outdated\\utils.py:14: OutdatedPackageWarning: The package outdated is out of date. Your version is 0.2.1, the latest is 0.2.2.\n",
      "Set the environment variable OUTDATED_IGNORE=1 to disable these warnings.\n",
      "  return warn(\n",
      "d:\\Tianyu\\software\\anaconda3\\lib\\site-packages\\outdated\\utils.py:14: OutdatedPackageWarning: The package pingouin is out of date. Your version is 0.5.0, the latest is 0.5.2.\n",
      "Set the environment variable OUTDATED_IGNORE=1 to disable these warnings.\n",
      "  return warn(\n"
     ]
    }
   ],
   "source": [
    "import pandas as pd \n",
    "import matplotlib.pyplot as plt \n",
    "import numpy as np\n",
    "import pingouin as pg\n",
    "import plotly.express as px\n",
    "import seaborn as sns \n",
    "from statannot import add_stat_annotation\n",
    "import os\n",
    "import copy\n",
    "import matplotlib.pyplot as plt\n",
    "from scipy.signal import savgol_filter\n",
    "from sklearn.cluster import KMeans\n",
    "from sklearn.metrics import silhouette_score"
   ]
  },
  {
   "cell_type": "code",
   "execution_count": null,
   "metadata": {},
   "outputs": [],
   "source": [
    "## savgol filter ##\n",
    "def SG_fil(data,window,column_name,order=2):\n",
    "    df = data.copy()\n",
    "    for n in column_name:\n",
    "        df[n] = savgol_filter(df.loc[:,n],window,order)\n",
    "    return df\n",
    "\n",
    "def lumin2cogload(lumin):\n",
    "    # coeff_left = [2.451072052, -15.47037207, 2.49154129]\n",
    "    # coeff_right = [2.489320955, -13.62467234, 2.540344354]\n",
    "    coeff_left = [1.326173, -4.42176, 3.016348]\n",
    "    coeff_right = [1.225595, -5.16006, 3.3087083]\n",
    "    cogload_adjust_left = coeff_left[0]*np.exp(coeff_left[1]*lumin) + coeff_left[2]\n",
    "    cogload_adjust_right = coeff_right[0]*np.exp(coeff_right[1]*lumin) + coeff_right[2]\n",
    "    return cogload_adjust_left, cogload_adjust_right"
   ]
  },
  {
   "cell_type": "code",
   "execution_count": null,
   "metadata": {},
   "outputs": [],
   "source": [
    "path = '../data/test/'\n",
    "\n",
    "data_raw = []\n",
    "for home, dirs, files in os.walk(path):\n",
    "        for filename in files:\n",
    "            t = pd.read_csv(home+\"/\"+filename,index_col=0)\n",
    "            t = t[90:-1].reset_index()\n",
    "            t[[\"participant_id\"]] = filename[1:3]\n",
    "            t[[\"condition\"]] = filename[4:8]\n",
    "\n",
    "            t['LeftPupilD'][t['LeftPupilD']<0] = np.nan\n",
    "            t['RightPupilD'][t['RightPupilD']<0] = np.nan\n",
    "            t[['LeftPupilD','RightPupilD']] = t[['LeftPupilD','RightPupilD']].interpolate(method='linear',axis=0,limit_direction ='both')\n",
    "            t = SG_fil(t,91,['LeftPupilD','RightPupilD','Lumin'])\n",
    "\n",
    "            (t[['cogload_adjust_left']], t[['cogload_adjust_right']]) = lumin2cogload(t[['Lumin']])\n",
    "            t[['cogload_left']] = t[['LeftPupilD']].values - t[['cogload_adjust_left']].values\n",
    "            t[['cogload_right']] = t[['RightPupilD']].values - t[['cogload_adjust_right']].values\n",
    "\n",
    "            time_all = len(t)/90"
   ]
  },
  {
   "cell_type": "code",
   "execution_count": null,
   "metadata": {},
   "outputs": [],
   "source": []
  },
  {
   "cell_type": "code",
   "execution_count": null,
   "metadata": {},
   "outputs": [],
   "source": []
  },
  {
   "cell_type": "code",
   "execution_count": null,
   "metadata": {},
   "outputs": [],
   "source": []
  },
  {
   "cell_type": "code",
   "execution_count": null,
   "metadata": {},
   "outputs": [],
   "source": []
  },
  {
   "cell_type": "code",
   "execution_count": null,
   "metadata": {},
   "outputs": [],
   "source": []
  },
  {
   "cell_type": "code",
   "execution_count": null,
   "metadata": {},
   "outputs": [],
   "source": []
  },
  {
   "cell_type": "code",
   "execution_count": null,
   "metadata": {},
   "outputs": [],
   "source": []
  }
 ],
 "metadata": {
  "kernelspec": {
   "display_name": "Python 3.8.8 ('base')",
   "language": "python",
   "name": "python3"
  },
  "language_info": {
   "codemirror_mode": {
    "name": "ipython",
    "version": 3
   },
   "file_extension": ".py",
   "mimetype": "text/x-python",
   "name": "python",
   "nbconvert_exporter": "python",
   "pygments_lexer": "ipython3",
   "version": "3.8.8"
  },
  "orig_nbformat": 4,
  "vscode": {
   "interpreter": {
    "hash": "ccfe95e82fcb548743682b96ea97a84ef44cdba7b808bc5c7b95e0b8557125d0"
   }
  }
 },
 "nbformat": 4,
 "nbformat_minor": 2
}
